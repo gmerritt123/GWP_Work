{
 "cells": [
  {
   "cell_type": "markdown",
   "metadata": {},
   "source": [
    "# Infiltration capacity\n",
    "\n",
    "This notebooks compute the infiltration capacity as function of time. The function we are looking is \n",
    "\n",
    "$$ f_p = f_c + (f_o - f_c) e^{-kt}$$\n",
    "\n",
    "with\n",
    "* $ f_p $ = infiltration capacity (cm/hr)\n",
    "* $ f_c $ = equilibrium infiltration capacity (cm/hr)\n",
    "* $ f_0 $ = initial infiltration capacity (cm/hr)\n",
    "* $ k $ = a rate of infiltration capacity decrease (1/hr)\n"
   ]
  },
  {
   "cell_type": "code",
   "execution_count": 1,
   "metadata": {},
   "outputs": [
    {
     "data": {
      "application/vnd.jupyter.widget-view+json": {
       "model_id": "f19c10e58397454e8725e49ed9b32e7c",
       "version_major": 2,
       "version_minor": 0
      },
      "text/plain": [
       "interactive(children=(FloatSlider(value=1.0, description='prec', max=20.0, readout_format='6.3f', step=0.01), …"
      ]
     },
     "metadata": {},
     "output_type": "display_data"
    },
    {
     "data": {
      "text/plain": [
       "<function __main__.Plot_EQ(prec, fc, f0, k, x_point)>"
      ]
     },
     "execution_count": 1,
     "metadata": {},
     "output_type": "execute_result"
    }
   ],
   "source": [
    "# This is a simple computation with a fixed temperature of 10 degrees celsius.\n",
    "\n",
    "# Initialize librarys - This eventually needs adapted\n",
    "import matplotlib\n",
    "import matplotlib.pyplot as plt\n",
    "import numpy as np\n",
    "import math\n",
    "from ipywidgets import *\n",
    "\n",
    "\n",
    "def Plot_EQ(prec,fc,f0,k,x_point):\n",
    "    tmax = 86400\n",
    "    t = np.arange(0, tmax, tmax/200)\n",
    "\n",
    "    if f0<fc:\n",
    "        f0 = fc\n",
    "\n",
    "    y = fc+(f0-fc)*(math.e**(k*t*-1))\n",
    "    \n",
    "    #Compute K_eq for the example point\n",
    "    y_point = fc+(f0-fc)*math.e**(k*-1*x_point)\n",
    "    \n",
    "    # Plot\n",
    "    fig = plt.figure(figsize=(8,6))\n",
    "    ax = fig.add_subplot(1, 1, 1)\n",
    "\n",
    "    ax.plot(t,y, linewidth =3, label='Infiltration rate')\n",
    "    ax.set(xlabel='time in s', ylabel='infiltration capacity / precipitation rate in cm/hr',title='Infiltration capacity')\n",
    "    ax.set(xlim=(0, tmax), ylim=(0, max(f0,prec)*1.1))\n",
    "    if prec <= fc:\n",
    "        plt.hlines(prec, 0, tmax, colors='aqua', linestyles='solid', label='precipitation rate')\n",
    "    ax.fill_between(t, prec, 0, facecolor= 'lightblue')\n",
    "    if prec > fc:\n",
    "        plt.hlines(prec, 0, tmax, colors='red', linestyles='solid', label='precipitation rate')\n",
    "        ax.fill_between(t, prec, y, where=prec > y, facecolor= 'red', alpha=0.5)\n",
    "    plt.plot(x_point,y_point, marker='o', color='r',linestyle ='None', label='your input')\n",
    "    xticks = np.arange(0, tmax, 7200)\n",
    "    ax.set_xticks(xticks)\n",
    "    ax.grid()\n",
    "    plt.legend()\n",
    "    plt.show()\n",
    " \n",
    "    print(\"Time after beginning of precipitation: %6.3f\" %x_point)\n",
    "    print('Infiltration rate in cm/hr:  %5.2f' %y_point)\n",
    "    \n",
    "interact(Plot_EQ,\n",
    "         prec = widgets.FloatSlider(value=1, min=0, max=20, step=0.01,readout=True,readout_format='6.3f'),\n",
    "         fc=widgets.FloatSlider(value=2, min=1, max=10, step=0.01,readout=True,readout_format='6.3f'),\n",
    "         f0=widgets.FloatSlider(value=5, min=0, max=20, step=0.01,readout=True,readout_format='6.3f'),\n",
    "         k=widgets.FloatSlider(value=0.005, min=0.00001, max=0.001\n",
    "                               , step=0.00001,readout=True,readout_format='7.5f'),\n",
    "         x_point=widgets.FloatSlider(value=0, min=0, max=86400, step=1,readout=True,readout_format='6.3f'))"
   ]
  },
  {
   "cell_type": "code",
   "execution_count": null,
   "metadata": {},
   "outputs": [],
   "source": []
  }
 ],
 "metadata": {
  "kernelspec": {
   "display_name": "Python 3",
   "language": "python",
   "name": "python3"
  },
  "language_info": {
   "codemirror_mode": {
    "name": "ipython",
    "version": 3
   },
   "file_extension": ".py",
   "mimetype": "text/x-python",
   "name": "python",
   "nbconvert_exporter": "python",
   "pygments_lexer": "ipython3",
   "version": "3.8.5"
  },
  "toc": {
   "base_numbering": 1,
   "nav_menu": {},
   "number_sections": true,
   "sideBar": true,
   "skip_h1_title": false,
   "title_cell": "Table of Contents",
   "title_sidebar": "Contents",
   "toc_cell": false,
   "toc_position": {},
   "toc_section_display": true,
   "toc_window_display": false
  }
 },
 "nbformat": 4,
 "nbformat_minor": 5
}
